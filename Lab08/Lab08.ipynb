{
 "cells": [
  {
   "cell_type": "code",
   "execution_count": 174,
   "metadata": {
    "ExecuteTime": {
     "end_time": "2017-11-09T20:02:40.856461Z",
     "start_time": "2017-11-09T20:02:40.847456Z"
    },
    "collapsed": true,
    "deletable": true,
    "editable": true
   },
   "outputs": [],
   "source": [
    "import pandas as pd\n",
    "import numpy as npLinearRegression\n",
    "from sklearn.linear_model import LinearRegression\n",
    "import scipy.stats as st\n",
    "import seaborn as sns\n",
    "import matplotlib.pyplot as plt\n",
    "sns.set(color_codes=True)\n",
    "from pylab import rcParams"
   ]
  },
  {
   "cell_type": "markdown",
   "metadata": {},
   "source": [
    "# 1 Assignment"
   ]
  },
  {
   "cell_type": "code",
   "execution_count": 73,
   "metadata": {
    "ExecuteTime": {
     "end_time": "2017-11-09T18:14:14.518246Z",
     "start_time": "2017-11-09T18:14:14.390659Z"
    },
    "collapsed": false
   },
   "outputs": [
    {
     "data": {
      "text/html": [
       "<div>\n",
       "<table border=\"1\" class=\"dataframe\">\n",
       "  <thead>\n",
       "    <tr style=\"text-align: right;\">\n",
       "      <th></th>\n",
       "      <th>id</th>\n",
       "      <th>p1</th>\n",
       "      <th>p2</th>\n",
       "      <th>p3</th>\n",
       "      <th>p4</th>\n",
       "      <th>p5</th>\n",
       "      <th>p6</th>\n",
       "      <th>p7</th>\n",
       "      <th>p8</th>\n",
       "      <th>p9</th>\n",
       "      <th>...</th>\n",
       "      <th>p24</th>\n",
       "      <th>p25</th>\n",
       "      <th>p26</th>\n",
       "      <th>p27</th>\n",
       "      <th>p28</th>\n",
       "      <th>y1</th>\n",
       "      <th>y2</th>\n",
       "      <th>y3</th>\n",
       "      <th>y4</th>\n",
       "      <th>y5</th>\n",
       "    </tr>\n",
       "  </thead>\n",
       "  <tbody>\n",
       "    <tr>\n",
       "      <th>count</th>\n",
       "      <td>40.000000</td>\n",
       "      <td>40.000000</td>\n",
       "      <td>40.000000</td>\n",
       "      <td>40.000000</td>\n",
       "      <td>40.000000</td>\n",
       "      <td>40.000000</td>\n",
       "      <td>40.000000</td>\n",
       "      <td>40.000000</td>\n",
       "      <td>40.000000</td>\n",
       "      <td>40.000000</td>\n",
       "      <td>...</td>\n",
       "      <td>40.000000</td>\n",
       "      <td>40.000000</td>\n",
       "      <td>40.000000</td>\n",
       "      <td>40.000000</td>\n",
       "      <td>40.000000</td>\n",
       "      <td>40.000000</td>\n",
       "      <td>40.000000</td>\n",
       "      <td>40.000000</td>\n",
       "      <td>40.000000</td>\n",
       "      <td>40.000000</td>\n",
       "    </tr>\n",
       "    <tr>\n",
       "      <th>mean</th>\n",
       "      <td>378.275000</td>\n",
       "      <td>6.264353</td>\n",
       "      <td>4.812500</td>\n",
       "      <td>6.106250</td>\n",
       "      <td>6.854167</td>\n",
       "      <td>6.537501</td>\n",
       "      <td>6.825000</td>\n",
       "      <td>6.768750</td>\n",
       "      <td>6.262501</td>\n",
       "      <td>6.516668</td>\n",
       "      <td>...</td>\n",
       "      <td>3.187500</td>\n",
       "      <td>3.722917</td>\n",
       "      <td>3.483333</td>\n",
       "      <td>3.916667</td>\n",
       "      <td>3.254167</td>\n",
       "      <td>4.025000</td>\n",
       "      <td>5.506250</td>\n",
       "      <td>7.306000</td>\n",
       "      <td>1.527500</td>\n",
       "      <td>5.634750</td>\n",
       "    </tr>\n",
       "    <tr>\n",
       "      <th>std</th>\n",
       "      <td>204.267545</td>\n",
       "      <td>3.168813</td>\n",
       "      <td>4.028246</td>\n",
       "      <td>3.210004</td>\n",
       "      <td>3.105559</td>\n",
       "      <td>3.114045</td>\n",
       "      <td>3.249140</td>\n",
       "      <td>3.144689</td>\n",
       "      <td>3.002584</td>\n",
       "      <td>3.585902</td>\n",
       "      <td>...</td>\n",
       "      <td>3.964980</td>\n",
       "      <td>4.055499</td>\n",
       "      <td>4.192620</td>\n",
       "      <td>4.339287</td>\n",
       "      <td>4.256550</td>\n",
       "      <td>2.857626</td>\n",
       "      <td>3.419161</td>\n",
       "      <td>2.956749</td>\n",
       "      <td>0.700848</td>\n",
       "      <td>2.811536</td>\n",
       "    </tr>\n",
       "    <tr>\n",
       "      <th>min</th>\n",
       "      <td>11.000000</td>\n",
       "      <td>0.000000</td>\n",
       "      <td>0.000000</td>\n",
       "      <td>0.000000</td>\n",
       "      <td>0.000000</td>\n",
       "      <td>0.000000</td>\n",
       "      <td>0.000000</td>\n",
       "      <td>0.000000</td>\n",
       "      <td>0.000000</td>\n",
       "      <td>0.000000</td>\n",
       "      <td>...</td>\n",
       "      <td>0.000000</td>\n",
       "      <td>0.000000</td>\n",
       "      <td>0.000000</td>\n",
       "      <td>0.000000</td>\n",
       "      <td>0.000000</td>\n",
       "      <td>0.000000</td>\n",
       "      <td>0.000000</td>\n",
       "      <td>0.000000</td>\n",
       "      <td>0.000000</td>\n",
       "      <td>0.000000</td>\n",
       "    </tr>\n",
       "    <tr>\n",
       "      <th>25%</th>\n",
       "      <td>205.750000</td>\n",
       "      <td>5.458337</td>\n",
       "      <td>0.000000</td>\n",
       "      <td>4.375000</td>\n",
       "      <td>6.541665</td>\n",
       "      <td>6.000000</td>\n",
       "      <td>6.249998</td>\n",
       "      <td>6.374998</td>\n",
       "      <td>5.916667</td>\n",
       "      <td>5.375000</td>\n",
       "      <td>...</td>\n",
       "      <td>0.000000</td>\n",
       "      <td>0.000000</td>\n",
       "      <td>0.000000</td>\n",
       "      <td>0.000000</td>\n",
       "      <td>0.000000</td>\n",
       "      <td>2.000000</td>\n",
       "      <td>3.000000</td>\n",
       "      <td>7.277500</td>\n",
       "      <td>1.427500</td>\n",
       "      <td>4.155000</td>\n",
       "    </tr>\n",
       "    <tr>\n",
       "      <th>50%</th>\n",
       "      <td>414.500000</td>\n",
       "      <td>6.666670</td>\n",
       "      <td>4.000000</td>\n",
       "      <td>7.500000</td>\n",
       "      <td>7.666670</td>\n",
       "      <td>7.000000</td>\n",
       "      <td>8.000000</td>\n",
       "      <td>7.833335</td>\n",
       "      <td>7.000000</td>\n",
       "      <td>8.000000</td>\n",
       "      <td>...</td>\n",
       "      <td>1.333335</td>\n",
       "      <td>3.333335</td>\n",
       "      <td>0.000000</td>\n",
       "      <td>1.708335</td>\n",
       "      <td>0.000000</td>\n",
       "      <td>4.000000</td>\n",
       "      <td>6.250000</td>\n",
       "      <td>8.215000</td>\n",
       "      <td>1.865000</td>\n",
       "      <td>6.225000</td>\n",
       "    </tr>\n",
       "    <tr>\n",
       "      <th>75%</th>\n",
       "      <td>563.250000</td>\n",
       "      <td>8.726850</td>\n",
       "      <td>9.125000</td>\n",
       "      <td>8.500000</td>\n",
       "      <td>8.687503</td>\n",
       "      <td>9.000000</td>\n",
       "      <td>9.000000</td>\n",
       "      <td>8.812500</td>\n",
       "      <td>8.125000</td>\n",
       "      <td>9.000000</td>\n",
       "      <td>...</td>\n",
       "      <td>6.041667</td>\n",
       "      <td>6.625000</td>\n",
       "      <td>7.250002</td>\n",
       "      <td>8.541667</td>\n",
       "      <td>7.625000</td>\n",
       "      <td>6.500000</td>\n",
       "      <td>8.312500</td>\n",
       "      <td>9.072500</td>\n",
       "      <td>2.000000</td>\n",
       "      <td>8.025000</td>\n",
       "    </tr>\n",
       "    <tr>\n",
       "      <th>max</th>\n",
       "      <td>638.000000</td>\n",
       "      <td>10.000000</td>\n",
       "      <td>10.000000</td>\n",
       "      <td>10.000000</td>\n",
       "      <td>9.750000</td>\n",
       "      <td>10.000000</td>\n",
       "      <td>10.000000</td>\n",
       "      <td>10.000000</td>\n",
       "      <td>9.666670</td>\n",
       "      <td>10.000000</td>\n",
       "      <td>...</td>\n",
       "      <td>10.000000</td>\n",
       "      <td>10.000000</td>\n",
       "      <td>10.000000</td>\n",
       "      <td>10.000000</td>\n",
       "      <td>10.000000</td>\n",
       "      <td>10.000000</td>\n",
       "      <td>11.000000</td>\n",
       "      <td>9.720000</td>\n",
       "      <td>2.000000</td>\n",
       "      <td>9.490000</td>\n",
       "    </tr>\n",
       "  </tbody>\n",
       "</table>\n",
       "<p>8 rows × 34 columns</p>\n",
       "</div>"
      ],
      "text/plain": [
       "               id         p1         p2         p3         p4         p5  \\\n",
       "count   40.000000  40.000000  40.000000  40.000000  40.000000  40.000000   \n",
       "mean   378.275000   6.264353   4.812500   6.106250   6.854167   6.537501   \n",
       "std    204.267545   3.168813   4.028246   3.210004   3.105559   3.114045   \n",
       "min     11.000000   0.000000   0.000000   0.000000   0.000000   0.000000   \n",
       "25%    205.750000   5.458337   0.000000   4.375000   6.541665   6.000000   \n",
       "50%    414.500000   6.666670   4.000000   7.500000   7.666670   7.000000   \n",
       "75%    563.250000   8.726850   9.125000   8.500000   8.687503   9.000000   \n",
       "max    638.000000  10.000000  10.000000  10.000000   9.750000  10.000000   \n",
       "\n",
       "              p6         p7         p8         p9    ...            p24  \\\n",
       "count  40.000000  40.000000  40.000000  40.000000    ...      40.000000   \n",
       "mean    6.825000   6.768750   6.262501   6.516668    ...       3.187500   \n",
       "std     3.249140   3.144689   3.002584   3.585902    ...       3.964980   \n",
       "min     0.000000   0.000000   0.000000   0.000000    ...       0.000000   \n",
       "25%     6.249998   6.374998   5.916667   5.375000    ...       0.000000   \n",
       "50%     8.000000   7.833335   7.000000   8.000000    ...       1.333335   \n",
       "75%     9.000000   8.812500   8.125000   9.000000    ...       6.041667   \n",
       "max    10.000000  10.000000   9.666670  10.000000    ...      10.000000   \n",
       "\n",
       "             p25        p26        p27        p28         y1         y2  \\\n",
       "count  40.000000  40.000000  40.000000  40.000000  40.000000  40.000000   \n",
       "mean    3.722917   3.483333   3.916667   3.254167   4.025000   5.506250   \n",
       "std     4.055499   4.192620   4.339287   4.256550   2.857626   3.419161   \n",
       "min     0.000000   0.000000   0.000000   0.000000   0.000000   0.000000   \n",
       "25%     0.000000   0.000000   0.000000   0.000000   2.000000   3.000000   \n",
       "50%     3.333335   0.000000   1.708335   0.000000   4.000000   6.250000   \n",
       "75%     6.625000   7.250002   8.541667   7.625000   6.500000   8.312500   \n",
       "max    10.000000  10.000000  10.000000  10.000000  10.000000  11.000000   \n",
       "\n",
       "              y3         y4         y5  \n",
       "count  40.000000  40.000000  40.000000  \n",
       "mean    7.306000   1.527500   5.634750  \n",
       "std     2.956749   0.700848   2.811536  \n",
       "min     0.000000   0.000000   0.000000  \n",
       "25%     7.277500   1.427500   4.155000  \n",
       "50%     8.215000   1.865000   6.225000  \n",
       "75%     9.072500   2.000000   8.025000  \n",
       "max     9.720000   2.000000   9.490000  \n",
       "\n",
       "[8 rows x 34 columns]"
      ]
     },
     "execution_count": 73,
     "metadata": {},
     "output_type": "execute_result"
    }
   ],
   "source": [
    "data = pd.read_csv('ds-boot-2.csv', sep='\\t')\n",
    "data.describe()"
   ]
  },
  {
   "cell_type": "code",
   "execution_count": 20,
   "metadata": {
    "ExecuteTime": {
     "end_time": "2017-11-09T17:31:12.463350Z",
     "start_time": "2017-11-09T17:31:12.458346Z"
    },
    "collapsed": false
   },
   "outputs": [],
   "source": [
    "X = list(filter(lambda x: \"p\" in x, list(data.columns)))\n",
    "y = list(filter(lambda x: \"y\" in x, list(data.columns)))"
   ]
  },
  {
   "cell_type": "markdown",
   "metadata": {},
   "source": [
    "## 1 Part"
   ]
  },
  {
   "cell_type": "code",
   "execution_count": 66,
   "metadata": {
    "ExecuteTime": {
     "end_time": "2017-11-09T17:43:06.619780Z",
     "start_time": "2017-11-09T17:43:06.591761Z"
    },
    "collapsed": false
   },
   "outputs": [
    {
     "name": "stdout",
     "output_type": "stream",
     "text": [
      "y1 - mean: 4.04, se: 0.44, median: 4.04, se: 0.57\n",
      "y2 - mean: 5.49, se: 0.55, median: 6.14, se: 0.71\n",
      "y3 - mean: 7.31, se: 0.45, median: 8.31, se: 0.27\n",
      "y4 - mean: 1.53, se: 0.11, median: 1.86, se: 0.13\n",
      "y5 - mean: 5.62, se: 0.45, median: 6.16, se: 0.45\n"
     ]
    }
   ],
   "source": [
    "for target_col in y:\n",
    "    bootstrapped_samples = np.random.choice(data.loc[:, target_col], size=(1000, len(data)))\n",
    "    bs_mean = np.mean(bootstrapped_samples, axis=1)\n",
    "    mean_mean = np.mean(bs_mean)\n",
    "    mean_std = np.std(bs_mean)\n",
    "    bs_median = np.median(bootstrapped_samples, axis=1)\n",
    "    median_mean = np.mean(bs_median)\n",
    "    median_std = np.std(bs_median)\n",
    "    print(\"{} - mean: {:.2f}, se: {:.2f}, median: {:.2f}, se: {:.2f}\".format(target_col, mean_mean, mean_std, median_mean, median_std))"
   ]
  },
  {
   "cell_type": "markdown",
   "metadata": {},
   "source": [
    "## 2 Part"
   ]
  },
  {
   "cell_type": "code",
   "execution_count": 106,
   "metadata": {
    "ExecuteTime": {
     "end_time": "2017-11-09T18:35:43.932687Z",
     "start_time": "2017-11-09T18:35:43.921678Z"
    },
    "collapsed": true
   },
   "outputs": [],
   "source": [
    "data_X = data.loc[:, X]\n",
    "data_y = data.loc[:, y]\n",
    "bs_indices = np.random.choice(data.index, (1000, len(data)))\n",
    "bs_X = data_X.values.take(bs_indices)\n",
    "bs_y = data_y.values.take(bs_indices)"
   ]
  },
  {
   "cell_type": "code",
   "execution_count": 152,
   "metadata": {
    "ExecuteTime": {
     "end_time": "2017-11-09T19:04:03.640389Z",
     "start_time": "2017-11-09T19:03:59.758801Z"
    },
    "collapsed": false
   },
   "outputs": [],
   "source": [
    "lr_coefs = np.zeros((1000, 5, 28))\n",
    "lr_intercepts = np.zeros((1000, 5))\n",
    "for i, bs_indices in enumerate(np.random.choice(data.index, (1000, len(data)))):\n",
    "    bs_X, bs_y = data_X.loc[bs_indices, :], data_y.loc[bs_indices, :]\n",
    "    lr = LinearRegression(n_jobs=4)\n",
    "    lr.fit(bs_X, bs_y)\n",
    "    lr_coefs[i] = lr.coef_\n",
    "    lr_intercepts[i] = lr.intercept_"
   ]
  },
  {
   "cell_type": "code",
   "execution_count": 162,
   "metadata": {
    "ExecuteTime": {
     "end_time": "2017-11-09T19:54:12.294382Z",
     "start_time": "2017-11-09T19:54:12.268867Z"
    },
    "collapsed": false
   },
   "outputs": [
    {
     "data": {
      "text/plain": [
       "(array([[ 0.18005668, -0.12646058, -0.21400002,  0.44221329, -0.37265687,\n",
       "          0.06380368, -0.54673852, -0.19587121, -0.16954088, -0.28672845,\n",
       "          0.20523317, -0.0664307 ,  0.00183498, -0.13350722, -0.52840999,\n",
       "          0.13008917,  0.20579194, -0.15188202, -0.32897764, -0.27101463,\n",
       "          0.25782542, -0.10240442,  0.28684933, -0.34260062,  0.06178445,\n",
       "         -0.09214886, -0.11405409, -0.22721276],\n",
       "        [-0.21974733, -0.01628513, -0.25647426,  0.00685974, -0.11307141,\n",
       "          0.26442409,  0.15409252, -0.55669284, -0.19420853, -0.21125941,\n",
       "          0.01598793, -0.12383563, -0.22434056,  0.04007242, -0.5010427 ,\n",
       "          0.08474459,  0.07477729, -0.08887345, -0.46350503, -0.31341882,\n",
       "          0.20916098,  0.0793426 , -0.20468658, -0.14854306, -0.06889403,\n",
       "          0.10795834, -0.42202927, -0.29284987],\n",
       "        [-0.00641423,  0.01342737,  0.02383612,  0.04751407,  0.07032739,\n",
       "         -0.0627537 ,  0.10940866,  0.09695485,  0.04049569,  0.02095867,\n",
       "          0.09124477,  0.08411241, -0.03521575,  0.02100181,  0.04559026,\n",
       "         -0.02691698, -0.0652754 , -0.02206854,  0.02196996, -0.01652841,\n",
       "         -0.04245799, -0.05926199, -0.01357333,  0.00314685, -0.0966685 ,\n",
       "         -0.03071784, -0.02500978, -0.0457932 ],\n",
       "        [-0.04765061, -0.01081787,  0.01433524,  0.01291048,  0.02787323,\n",
       "          0.00823931, -0.04636537,  0.04473422,  0.02000409,  0.00773232,\n",
       "         -0.0310255 , -0.02045301, -0.0893147 ,  0.02656175, -0.04348904,\n",
       "          0.01127925, -0.05625573,  0.02252275,  0.01291254,  0.01416056,\n",
       "          0.02491461, -0.05928972,  0.00955282, -0.00313608, -0.06641348,\n",
       "          0.00063545, -0.00187093, -0.01113468],\n",
       "        [ 0.02197172, -0.02052873, -0.10720943,  0.21689337, -0.09853772,\n",
       "          0.13690645, -0.0706521 , -0.16194275, -0.06729101, -0.12423371,\n",
       "          0.13429306, -0.0021483 , -0.05678374,  0.00721503, -0.30567413,\n",
       "          0.08582729,  0.08903937, -0.05393081, -0.21477729, -0.16046849,\n",
       "          0.16883328, -0.02222606,  0.05782332, -0.13717822, -0.00641103,\n",
       "          0.02415496, -0.14874871, -0.16290084]]),\n",
       " array([[ 0.43577298,  0.07327377,  0.02594491,  0.72453773, -0.15805451,\n",
       "          0.39366427, -0.21926339,  0.05797216,  0.0899166 , -0.07751445,\n",
       "          0.49018804,  0.19710368,  0.28536504,  0.07946224, -0.33332307,\n",
       "          0.26542967,  0.42896356,  0.04380863, -0.08244165, -0.07349353,\n",
       "          0.43318222,  0.06442022,  0.42279678, -0.1463296 ,  0.35153254,\n",
       "          0.16709318,  0.08268304, -0.07631701],\n",
       "        [ 0.18791949,  0.20927512,  0.07276832,  0.39716558,  0.21877482,\n",
       "          0.69139201,  0.60015727, -0.22303671,  0.12002393,  0.12657054,\n",
       "          0.36726797,  0.26671259,  0.19998042,  0.32440758, -0.2156078 ,\n",
       "          0.27864212,  0.30192051,  0.12604247, -0.19317317, -0.04305168,\n",
       "          0.4745816 ,  0.31651382, -0.01886199,  0.13148047,  0.24535284,\n",
       "          0.362949  , -0.1415205 , -0.10683043],\n",
       "        [ 0.082226  ,  0.06175277,  0.08491225,  0.12143108,  0.1283425 ,\n",
       "          0.07147979,  0.23245557,  0.1629538 ,  0.09798947,  0.08054868,\n",
       "          0.17307297,  0.16593892,  0.08225557,  0.0730463 ,  0.1066921 ,\n",
       "          0.01226105, -0.01403823,  0.02720475,  0.07267727,  0.04051918,\n",
       "          0.01240741, -0.01433786,  0.0279517 ,  0.05663251, -0.02806158,\n",
       "          0.03288679,  0.03070129, -0.00358275],\n",
       "        [-0.00153029,  0.01202527,  0.0469774 ,  0.05036434,  0.05725629,\n",
       "          0.07177914,  0.01164388,  0.07856176,  0.05543569,  0.04259931,\n",
       "          0.01214098,  0.02199302, -0.03426278,  0.05375596, -0.00759793,\n",
       "          0.03311756, -0.03093264,  0.04881115,  0.03718635,  0.04505808,\n",
       "          0.056427  , -0.0345764 ,  0.02948582,  0.02603735, -0.03384001,\n",
       "          0.02743652,  0.02885883,  0.01124619],\n",
       "        [ 0.19389668,  0.08155289,  0.03483212,  0.3785302 ,  0.02504838,\n",
       "          0.33261302,  0.12357859, -0.01233065,  0.07651951,  0.01541305,\n",
       "          0.30060041,  0.16520176,  0.1331407 ,  0.13199279, -0.17773082,\n",
       "          0.16879453,  0.20062679,  0.04625994, -0.08618925, -0.04407142,\n",
       "          0.28836819,  0.08237527,  0.13744849, -0.01551939,  0.14202466,\n",
       "          0.15113167, -0.02258265, -0.07775671]]))"
      ]
     },
     "execution_count": 162,
     "metadata": {},
     "output_type": "execute_result"
    }
   ],
   "source": [
    "st.norm.interval(0.95, loc=np.mean(lr_coefs, axis=0), scale=np.std(lr_coefs, axis=0)/np.sqrt(len(data)))\n",
    "# First array - lower bounds of confidence interval for each coefficient for each target\n",
    "# Second array - upper bounds of confidence interval for each coefficient for each target"
   ]
  },
  {
   "cell_type": "code",
   "execution_count": 163,
   "metadata": {
    "ExecuteTime": {
     "end_time": "2017-11-09T19:54:13.439487Z",
     "start_time": "2017-11-09T19:54:13.427480Z"
    },
    "collapsed": false
   },
   "outputs": [
    {
     "data": {
      "text/plain": [
       "(array([-0.19354016, -0.18897372, -0.04743546, -0.02317364, -0.07863451]),\n",
       " array([ 0.11860362,  0.15229873,  0.07884987,  0.03727556,  0.05439193]))"
      ]
     },
     "execution_count": 163,
     "metadata": {},
     "output_type": "execute_result"
    }
   ],
   "source": [
    "st.norm.interval(0.95, loc=np.mean(lr_intercepts, axis=0), scale=np.std(lr_intercepts, axis=0)/np.sqrt(len(data)))\n",
    "# First array lower bounds of confidence interval of intercept for each target\n",
    "# Second array upper bounds of confidence interval of intercept for each target"
   ]
  },
  {
   "cell_type": "markdown",
   "metadata": {},
   "source": [
    "# 2 Assignment"
   ]
  },
  {
   "cell_type": "code",
   "execution_count": 170,
   "metadata": {
    "ExecuteTime": {
     "end_time": "2017-11-09T19:59:48.129023Z",
     "start_time": "2017-11-09T19:59:48.111511Z"
    },
    "collapsed": false
   },
   "outputs": [
    {
     "data": {
      "text/html": [
       "<div>\n",
       "<table border=\"1\" class=\"dataframe\">\n",
       "  <thead>\n",
       "    <tr style=\"text-align: right;\">\n",
       "      <th></th>\n",
       "      <th>bugsPerDay</th>\n",
       "      <th>cummBugs</th>\n",
       "    </tr>\n",
       "    <tr>\n",
       "      <th>day</th>\n",
       "      <th></th>\n",
       "      <th></th>\n",
       "    </tr>\n",
       "  </thead>\n",
       "  <tbody>\n",
       "    <tr>\n",
       "      <th>1</th>\n",
       "      <td>0</td>\n",
       "      <td>0</td>\n",
       "    </tr>\n",
       "    <tr>\n",
       "      <th>2</th>\n",
       "      <td>1</td>\n",
       "      <td>1</td>\n",
       "    </tr>\n",
       "    <tr>\n",
       "      <th>3</th>\n",
       "      <td>0</td>\n",
       "      <td>1</td>\n",
       "    </tr>\n",
       "    <tr>\n",
       "      <th>4</th>\n",
       "      <td>2</td>\n",
       "      <td>3</td>\n",
       "    </tr>\n",
       "    <tr>\n",
       "      <th>5</th>\n",
       "      <td>1</td>\n",
       "      <td>4</td>\n",
       "    </tr>\n",
       "  </tbody>\n",
       "</table>\n",
       "</div>"
      ],
      "text/plain": [
       "     bugsPerDay  cummBugs\n",
       "day                      \n",
       "1             0         0\n",
       "2             1         1\n",
       "3             0         1\n",
       "4             2         3\n",
       "5             1         4"
      ]
     },
     "execution_count": 170,
     "metadata": {},
     "output_type": "execute_result"
    }
   ],
   "source": [
    "data = pd.read_csv('ds-boot-1.csv', sep='\\t').set_index('day')\n",
    "data.head()"
   ]
  },
  {
   "cell_type": "code",
   "execution_count": 187,
   "metadata": {
    "ExecuteTime": {
     "end_time": "2017-11-09T20:11:29.854952Z",
     "start_time": "2017-11-09T20:11:29.473195Z"
    },
    "collapsed": false
   },
   "outputs": [
    {
     "data": {
      "image/png": "[encoded data removed]",
      "text/plain": [
       "<matplotlib.figure.Figure at 0x27fe3347390>"
      ]
     },
     "metadata": {},
     "output_type": "display_data"
    },
    {
     "data": {
      "image/png": "[encoded data removed]",
      "text/plain": [
       "<matplotlib.figure.Figure at 0x27fe0e5def0>"
      ]
     },
     "metadata": {},
     "output_type": "display_data"
    }
   ],
   "source": [
    "plt.plot(data['bugsPerDay'])\n",
    "plt.plot(data['bugsPerDay'].ewm(span=20).mean(), 'r')\n",
    "plt.show()\n",
    "plt.plot(data['cummBugs'])\n",
    "plt.show()"
   ]
  }
 ],
 "metadata": {
  "hide_input": false,
  "kernelspec": {
   "display_name": "Python 3",
   "language": "python",
   "name": "python3"
  },
  "language_info": {
   "codemirror_mode": {
    "name": "ipython",
    "version": 3
   },
   "file_extension": ".py",
   "mimetype": "text/x-python",
   "name": "python",
   "nbconvert_exporter": "python",
   "pygments_lexer": "ipython3",
   "version": "3.6.0"
  },
  "toc": {
   "nav_menu": {},
   "number_sections": false,
   "sideBar": true,
   "skip_h1_title": false,
   "toc_cell": false,
   "toc_position": {},
   "toc_section_display": "block",
   "toc_window_display": true
  },
  "varInspector": {
   "cols": {
    "lenName": 16,
    "lenType": 16,
    "lenVar": 40
   },
   "kernels_config": {
    "python": {
     "delete_cmd_postfix": "",
     "delete_cmd_prefix": "del ",
     "library": "var_list.py",
     "varRefreshCmd": "print(var_dic_list())"
    },
    "r": {
     "delete_cmd_postfix": ") ",
     "delete_cmd_prefix": "rm(",
     "library": "var_list.r",
     "varRefreshCmd": "cat(var_dic_list()) "
    }
   },
   "types_to_exclude": [
    "module",
    "function",
    "builtin_function_or_method",
    "instance",
    "_Feature"
   ],
   "window_display": false
  }
 },
 "nbformat": 4,
 "nbformat_minor": 2
}
