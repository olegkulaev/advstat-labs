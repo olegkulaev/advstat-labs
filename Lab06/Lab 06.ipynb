{
 "cells": [
  {
   "cell_type": "code",
   "execution_count": 99,
   "metadata": {
    "ExecuteTime": {
     "end_time": "2017-10-12T16:42:26.772686Z",
     "start_time": "2017-10-12T16:42:26.754674Z"
    },
    "collapsed": true,
    "deletable": true,
    "editable": true
   },
   "outputs": [],
   "source": [
    "import numpy as np\n",
    "import pandas as pd\n",
    "import scipy.stats as st\n",
    "import matplotlib.pyplot as plt\n",
    "from scipy.stats import norm, kstest, expon, t, ksone\n",
    "from statsmodels.distributions.empirical_distribution import ECDF\n",
    "\n",
    "%matplotlib inline"
   ]
  },
  {
   "cell_type": "code",
   "execution_count": 100,
   "metadata": {
    "ExecuteTime": {
     "end_time": "2017-10-12T16:42:27.137143Z",
     "start_time": "2017-10-12T16:42:27.126636Z"
    },
    "collapsed": true
   },
   "outputs": [],
   "source": [
    "data = pd.read_csv('dataset1.txt', header=None)[0]"
   ]
  },
  {
   "cell_type": "code",
   "execution_count": 101,
   "metadata": {
    "ExecuteTime": {
     "end_time": "2017-10-12T16:42:27.535478Z",
     "start_time": "2017-10-12T16:42:27.526470Z"
    },
    "collapsed": false,
    "deletable": true,
    "editable": true
   },
   "outputs": [],
   "source": [
    "def compare_to_normal(title, sample, critical_value = 0.04301):\n",
    "    ecdf = ECDF(sample)\n",
    "    D = np.max(np.abs(ECDF(sample)(sample) -  st.norm(np.mean(sample), np.std(sample)).cdf(sample)))\n",
    "    if D > critical_value:\n",
    "        print(\"Rejecting the H0 for {}, since D={} (>{})\".format(title, D, critical_value))\n",
    "    else:\n",
    "        print(\"Accepting the H0 for {}, since D={} (<{})\".format(title, D, critical_value))"
   ]
  },
  {
   "cell_type": "code",
   "execution_count": 102,
   "metadata": {
    "ExecuteTime": {
     "end_time": "2017-10-12T16:42:28.071423Z",
     "start_time": "2017-10-12T16:42:28.041902Z"
    },
    "collapsed": false,
    "deletable": true,
    "editable": true
   },
   "outputs": [
    {
     "name": "stdout",
     "output_type": "stream",
     "text": [
      "Accepting the H0 for normal, since D=0.01938550423813956 (<0.04301)\n",
      "Rejecting the H0 for double exponential, since D=0.063796555507114 (>0.04301)\n",
      "Rejecting the H0 for T-3, since D=0.0812016664180738 (>0.04301)\n",
      "Rejecting the H0 for lognormal, since D=0.22639149541488007 (>0.04301)\n",
      "Rejecting the H0 for custom data, since D=0.15366213968015685 (>0.04301)\n"
     ]
    }
   ],
   "source": [
    "compare_to_normal(\"normal\", st.norm().rvs(1000))\n",
    "compare_to_normal(\"double exponential\", st.laplace().rvs(1000))\n",
    "compare_to_normal(\"T-3\", st.t(3).rvs(1000))\n",
    "compare_to_normal(\"lognormal\", st.lognorm(1.).rvs(1000))\n",
    "compare_to_normal(\"custom data\", data)"
   ]
  },
  {
   "cell_type": "code",
   "execution_count": 106,
   "metadata": {
    "ExecuteTime": {
     "end_time": "2017-10-12T16:49:04.144326Z",
     "start_time": "2017-10-12T16:49:04.134817Z"
    },
    "collapsed": false
   },
   "outputs": [
    {
     "data": {
      "text/plain": [
       "0.038701535143970713"
      ]
     },
     "execution_count": 106,
     "metadata": {},
     "output_type": "execute_result"
    }
   ],
   "source": [
    "critical_value = 1.22385 / np.sqrt(len(data)) # for alpha = 0.1\n",
    "critical_value"
   ]
  },
  {
   "cell_type": "code",
   "execution_count": 107,
   "metadata": {
    "ExecuteTime": {
     "end_time": "2017-10-12T16:49:29.866383Z",
     "start_time": "2017-10-12T16:49:29.829858Z"
    },
    "collapsed": false,
    "scrolled": false
   },
   "outputs": [
    {
     "name": "stdout",
     "output_type": "stream",
     "text": [
      "Accepting the H0 for normal, since D=0.0157460422860361 (<0.03870153514397071)\n",
      "Rejecting the H0 for double exponential, since D=0.06908949266538644 (>0.03870153514397071)\n",
      "Rejecting the H0 for T-3, since D=0.09039374162553093 (>0.03870153514397071)\n",
      "Rejecting the H0 for lognormal, since D=0.21900454568341576 (>0.03870153514397071)\n",
      "Rejecting the H0 for custom data, since D=0.15366213968015685 (>0.03870153514397071)\n"
     ]
    }
   ],
   "source": [
    "compare_to_normal(\"normal\", st.norm().rvs(1000), critical_value)\n",
    "compare_to_normal(\"double exponential\", st.laplace().rvs(1000), critical_value)\n",
    "compare_to_normal(\"T-3\", st.t(3).rvs(1000), critical_value)\n",
    "compare_to_normal(\"lognormal\", st.lognorm(1.).rvs(1000), critical_value)\n",
    "compare_to_normal(\"custom data\", data, critical_value)"
   ]
  }
 ],
 "metadata": {
  "hide_input": false,
  "kernelspec": {
   "display_name": "Python 3",
   "language": "python",
   "name": "python3"
  },
  "language_info": {
   "codemirror_mode": {
    "name": "ipython",
    "version": 3
   },
   "file_extension": ".py",
   "mimetype": "text/x-python",
   "name": "python",
   "nbconvert_exporter": "python",
   "pygments_lexer": "ipython3",
   "version": "3.6.0"
  },
  "toc": {
   "nav_menu": {},
   "number_sections": true,
   "sideBar": true,
   "skip_h1_title": false,
   "toc_cell": false,
   "toc_position": {},
   "toc_section_display": "block",
   "toc_window_display": false
  },
  "varInspector": {
   "cols": {
    "lenName": 16,
    "lenType": 16,
    "lenVar": 40
   },
   "kernels_config": {
    "python": {
     "delete_cmd_postfix": "",
     "delete_cmd_prefix": "del ",
     "library": "var_list.py",
     "varRefreshCmd": "print(var_dic_list())"
    },
    "r": {
     "delete_cmd_postfix": ") ",
     "delete_cmd_prefix": "rm(",
     "library": "var_list.r",
     "varRefreshCmd": "cat(var_dic_list()) "
    }
   },
   "types_to_exclude": [
    "module",
    "function",
    "builtin_function_or_method",
    "instance",
    "_Feature"
   ],
   "window_display": false
  }
 },
 "nbformat": 4,
 "nbformat_minor": 2
}
